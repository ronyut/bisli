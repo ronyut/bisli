{
 "cells": [
  {
   "cell_type": "code",
   "execution_count": 1,
   "metadata": {},
   "outputs": [],
   "source": [
    "# import transcript\n",
    "%run transcript.ipynb\n",
    "\n",
    "# imports\n",
    "from graphviz import Source"
   ]
  },
  {
   "cell_type": "code",
   "execution_count": 7,
   "metadata": {},
   "outputs": [
    {
     "name": "stdout",
     "output_type": "stream",
     "text": [
      "0.8235294117647058\n"
     ]
    }
   ],
   "source": [
    "hm = similar(\"esaxeket\", \"mesaxeqet\")\n",
    "print(hm)"
   ]
  },
  {
   "cell_type": "markdown",
   "metadata": {},
   "source": [
    "<center>\n",
    "    <img src=\"assets/img/sandbox.png\" width=\"10%\" height=\"10%\" alt=\"Testing Area\">\n",
    "    <h3 align=\"center\">Testing Area</h3>\n",
    "</center>\n",
    "<hr>"
   ]
  },
  {
   "cell_type": "code",
   "execution_count": null,
   "metadata": {},
   "outputs": [],
   "source": [
    "def testing():\n",
    "    s = [\"teh\", \"tey\", \"agilit\", \"hagilit\", \"baita\", \"bayita\", \"mesaxeket\", \"mesaxeqet\"]\n",
    "    s1 = s[4]\n",
    "    s2 = s[5]\n",
    "    exceptions = \"hiy\"\n",
    "    sim = similar(s1, s2)\n",
    "    \n",
    "    print(\"Similarity: \" + str(sim))\n",
    "    print(isEdgeLettersSame(s1, s2, exceptions))\n",
    "    print(check_h(s1, s2))\n",
    "    print(shouldMerge_heb(s1, s2))\n",
    "    print(shouldMerge([s1, 4, s2, 4, sim], \"hebrew\"))\n",
    "    \n",
    "    # view sequence diagram\n",
    "    path = 'myuses.dot'\n",
    "    s = Source.from_file(path)\n",
    "    s.view()"
   ]
  }
 ],
 "metadata": {
  "kernelspec": {
   "display_name": "Python 3",
   "language": "python",
   "name": "python3"
  },
  "language_info": {
   "codemirror_mode": {
    "name": "ipython",
    "version": 3
   },
   "file_extension": ".py",
   "mimetype": "text/x-python",
   "name": "python",
   "nbconvert_exporter": "python",
   "pygments_lexer": "ipython3",
   "version": "3.7.4"
  }
 },
 "nbformat": 4,
 "nbformat_minor": 2
}
